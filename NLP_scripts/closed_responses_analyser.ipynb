{
 "cells": [
  {
   "cell_type": "code",
   "execution_count": 79,
   "id": "handy-practice",
   "metadata": {},
   "outputs": [
    {
     "name": "stderr",
     "output_type": "stream",
     "text": [
      "/home/niki/anaconda3/lib/python3.8/site-packages/openpyxl/styles/stylesheet.py:221: UserWarning: Workbook contains no default style, apply openpyxl's default\n",
      "  warn(\"Workbook contains no default style, apply openpyxl's default\")\n"
     ]
    }
   ],
   "source": [
    "import pandas as pd\n",
    "survey_data = pd.read_excel('data/raw_data.xlsx')\n",
    "\n",
    "columns_with_closed_responses = ['Q01', 'Q03', 'Q05', 'Q07', 'Q09', 'Q11', 'Q13', 'Q17']\n",
    "raw_data = survey_data[columns_with_closed_responses]\n",
    "questions = survey_data.iloc[0]\n",
    "raw_data = raw_data[1:]\n",
    "raw_data = raw_data.dropna()\n",
    "raw_data = raw_data.reset_index()\n",
    "raw_data = raw_data.drop(columns=['index'])"
   ]
  },
  {
   "cell_type": "code",
   "execution_count": 54,
   "id": "opposed-poison",
   "metadata": {},
   "outputs": [
    {
     "data": {
      "text/plain": [
       "'The information that I found was easy to understand.'"
      ]
     },
     "execution_count": 54,
     "metadata": {},
     "output_type": "execute_result"
    }
   ],
   "source": [
    "questions['Q05']"
   ]
  },
  {
   "cell_type": "code",
   "execution_count": 55,
   "id": "nominated-liechtenstein",
   "metadata": {},
   "outputs": [
    {
     "data": {
      "text/html": [
       "<div>\n",
       "<style scoped>\n",
       "    .dataframe tbody tr th:only-of-type {\n",
       "        vertical-align: middle;\n",
       "    }\n",
       "\n",
       "    .dataframe tbody tr th {\n",
       "        vertical-align: top;\n",
       "    }\n",
       "\n",
       "    .dataframe thead th {\n",
       "        text-align: right;\n",
       "    }\n",
       "</style>\n",
       "<table border=\"1\" class=\"dataframe\">\n",
       "  <thead>\n",
       "    <tr style=\"text-align: right;\">\n",
       "      <th></th>\n",
       "      <th>Q01</th>\n",
       "      <th>Q03</th>\n",
       "      <th>Q05</th>\n",
       "      <th>Q07</th>\n",
       "      <th>Q09</th>\n",
       "      <th>Q11</th>\n",
       "      <th>Q13</th>\n",
       "      <th>Q17</th>\n",
       "    </tr>\n",
       "  </thead>\n",
       "  <tbody>\n",
       "    <tr>\n",
       "      <th>0</th>\n",
       "      <td>Agree</td>\n",
       "      <td>Neither Agree nor Disagree</td>\n",
       "      <td>Neither Agree nor Disagree</td>\n",
       "      <td>Neither Agree nor Disagree</td>\n",
       "      <td>Neither Agree nor Disagree</td>\n",
       "      <td>Neither Agree nor Disagree</td>\n",
       "      <td>Neither Agree nor Disagree</td>\n",
       "      <td>Neither Agree nor Disagree</td>\n",
       "    </tr>\n",
       "    <tr>\n",
       "      <th>1</th>\n",
       "      <td>Neither Agree nor Disagree</td>\n",
       "      <td>Neither Agree nor Disagree</td>\n",
       "      <td>Neither Agree nor Disagree</td>\n",
       "      <td>Neither Agree nor Disagree</td>\n",
       "      <td>Neither Agree nor Disagree</td>\n",
       "      <td>Strongly Disagree</td>\n",
       "      <td>Strongly Disagree</td>\n",
       "      <td>Strongly Disagree</td>\n",
       "    </tr>\n",
       "    <tr>\n",
       "      <th>2</th>\n",
       "      <td>Strongly Disagree</td>\n",
       "      <td>Strongly Disagree</td>\n",
       "      <td>Strongly Disagree</td>\n",
       "      <td>Strongly Disagree</td>\n",
       "      <td>Strongly Disagree</td>\n",
       "      <td>Strongly Disagree</td>\n",
       "      <td>Strongly Disagree</td>\n",
       "      <td>Strongly Disagree</td>\n",
       "    </tr>\n",
       "    <tr>\n",
       "      <th>3</th>\n",
       "      <td>Strongly Disagree</td>\n",
       "      <td>Disagree</td>\n",
       "      <td>Somewhat Disagree</td>\n",
       "      <td>Somewhat Disagree</td>\n",
       "      <td>Neither Agree nor Disagree</td>\n",
       "      <td>Somewhat Disagree</td>\n",
       "      <td>Strongly Disagree</td>\n",
       "      <td>Strongly Disagree</td>\n",
       "    </tr>\n",
       "    <tr>\n",
       "      <th>4</th>\n",
       "      <td>Strongly Agree</td>\n",
       "      <td>Strongly Agree</td>\n",
       "      <td>Strongly Agree</td>\n",
       "      <td>Strongly Agree</td>\n",
       "      <td>Strongly Agree</td>\n",
       "      <td>Strongly Agree</td>\n",
       "      <td>Strongly Agree</td>\n",
       "      <td>Strongly Agree</td>\n",
       "    </tr>\n",
       "  </tbody>\n",
       "</table>\n",
       "</div>"
      ],
      "text/plain": [
       "                          Q01                         Q03  \\\n",
       "0                       Agree  Neither Agree nor Disagree   \n",
       "1  Neither Agree nor Disagree  Neither Agree nor Disagree   \n",
       "2           Strongly Disagree           Strongly Disagree   \n",
       "3           Strongly Disagree                    Disagree   \n",
       "4              Strongly Agree              Strongly Agree   \n",
       "\n",
       "                          Q05                         Q07  \\\n",
       "0  Neither Agree nor Disagree  Neither Agree nor Disagree   \n",
       "1  Neither Agree nor Disagree  Neither Agree nor Disagree   \n",
       "2           Strongly Disagree           Strongly Disagree   \n",
       "3           Somewhat Disagree           Somewhat Disagree   \n",
       "4              Strongly Agree              Strongly Agree   \n",
       "\n",
       "                          Q09                         Q11  \\\n",
       "0  Neither Agree nor Disagree  Neither Agree nor Disagree   \n",
       "1  Neither Agree nor Disagree           Strongly Disagree   \n",
       "2           Strongly Disagree           Strongly Disagree   \n",
       "3  Neither Agree nor Disagree           Somewhat Disagree   \n",
       "4              Strongly Agree              Strongly Agree   \n",
       "\n",
       "                          Q13                         Q17  \n",
       "0  Neither Agree nor Disagree  Neither Agree nor Disagree  \n",
       "1           Strongly Disagree           Strongly Disagree  \n",
       "2           Strongly Disagree           Strongly Disagree  \n",
       "3           Strongly Disagree           Strongly Disagree  \n",
       "4              Strongly Agree              Strongly Agree  "
      ]
     },
     "execution_count": 55,
     "metadata": {},
     "output_type": "execute_result"
    }
   ],
   "source": [
    "raw_data.head()"
   ]
  },
  {
   "cell_type": "code",
   "execution_count": 57,
   "id": "arctic-cattle",
   "metadata": {},
   "outputs": [],
   "source": [
    "current_column = 'Q01'\n",
    "dictionary = {'Strongly Disagree': 1,\n",
    "             'Disagree' : 2,\n",
    "             'Somewhat Disagree' : 3,\n",
    "             'Neither Agree nor Disagree' : 4,\n",
    "             'Somewhat Agree': 5,\n",
    "             'Agree': 6,\n",
    "             'Strongly Agree': 7,\n",
    "             'nan': 'Null'}\n",
    "data = raw_data\n",
    "for column in raw_data:\n",
    "    for row in range(len(raw_data)):\n",
    "        data[column][row] = dictionary[raw_data[column][row]]"
   ]
  },
  {
   "cell_type": "code",
   "execution_count": 60,
   "id": "optical-entertainment",
   "metadata": {},
   "outputs": [
    {
     "data": {
      "text/plain": [
       "Q01    2.0\n",
       "Q03    2.0\n",
       "Q05    3.0\n",
       "Q07    4.0\n",
       "Q09    4.0\n",
       "Q11    1.0\n",
       "Q13    2.0\n",
       "Q17    2.0\n",
       "dtype: float64"
      ]
     },
     "execution_count": 60,
     "metadata": {},
     "output_type": "execute_result"
    }
   ],
   "source": [
    "data.median()"
   ]
  },
  {
   "cell_type": "code",
   "execution_count": 69,
   "id": "unnecessary-uncle",
   "metadata": {},
   "outputs": [
    {
     "data": {
      "text/plain": [
       "2.198414631130813"
      ]
     },
     "execution_count": 69,
     "metadata": {},
     "output_type": "execute_result"
    }
   ],
   "source": [
    "data.std()['Q01']"
   ]
  },
  {
   "cell_type": "code",
   "execution_count": 72,
   "id": "cardiovascular-forge",
   "metadata": {},
   "outputs": [],
   "source": [
    "output_df = pd.DataFrame(columns = ['Question','String','Average','Median','Stddev'])\n",
    "for column in columns_with_closed_responses:\n",
    "    output_df = output_df.append({'Question' :column,\n",
    "                                 'String': questions[column],\n",
    "                                 'Average': data.mean()[column],\n",
    "                                 'Median': data.mean()[column],\n",
    "                                  'Stddev' :data.std()[column]\n",
    "                                 },ignore_index=True)"
   ]
  },
  {
   "cell_type": "code",
   "execution_count": 74,
   "id": "imported-suspension",
   "metadata": {},
   "outputs": [],
   "source": [
    "output_df.to_csv('data/output/questions_ratings.csv')"
   ]
  },
  {
   "cell_type": "code",
   "execution_count": 81,
   "id": "exciting-construction",
   "metadata": {},
   "outputs": [],
   "source": [
    "responses = ['Strongly Disagree', 'Disagree','Somewhat Disagree','Neither Agree nor Disagree','Somewhat Agree','Agree','Strongly Agree']"
   ]
  },
  {
   "cell_type": "code",
   "execution_count": 83,
   "id": "working-grounds",
   "metadata": {},
   "outputs": [
    {
     "data": {
      "text/html": [
       "<div>\n",
       "<style scoped>\n",
       "    .dataframe tbody tr th:only-of-type {\n",
       "        vertical-align: middle;\n",
       "    }\n",
       "\n",
       "    .dataframe tbody tr th {\n",
       "        vertical-align: top;\n",
       "    }\n",
       "\n",
       "    .dataframe thead th {\n",
       "        text-align: right;\n",
       "    }\n",
       "</style>\n",
       "<table border=\"1\" class=\"dataframe\">\n",
       "  <thead>\n",
       "    <tr style=\"text-align: right;\">\n",
       "      <th></th>\n",
       "      <th>Question</th>\n",
       "      <th>Strongly Disagree</th>\n",
       "      <th>Disagree</th>\n",
       "      <th>Somewhat Disagree</th>\n",
       "      <th>Neither Agree nor Disagree</th>\n",
       "      <th>Somewhat Agree</th>\n",
       "      <th>Agree</th>\n",
       "      <th>Strongly Agree</th>\n",
       "    </tr>\n",
       "  </thead>\n",
       "  <tbody>\n",
       "    <tr>\n",
       "      <th>0</th>\n",
       "      <td>Q01</td>\n",
       "      <td>103</td>\n",
       "      <td>23</td>\n",
       "      <td>12</td>\n",
       "      <td>27</td>\n",
       "      <td>11</td>\n",
       "      <td>36</td>\n",
       "      <td>17</td>\n",
       "    </tr>\n",
       "    <tr>\n",
       "      <th>1</th>\n",
       "      <td>Q03</td>\n",
       "      <td>97</td>\n",
       "      <td>21</td>\n",
       "      <td>15</td>\n",
       "      <td>36</td>\n",
       "      <td>10</td>\n",
       "      <td>33</td>\n",
       "      <td>17</td>\n",
       "    </tr>\n",
       "    <tr>\n",
       "      <th>2</th>\n",
       "      <td>Q05</td>\n",
       "      <td>91</td>\n",
       "      <td>17</td>\n",
       "      <td>13</td>\n",
       "      <td>36</td>\n",
       "      <td>16</td>\n",
       "      <td>40</td>\n",
       "      <td>16</td>\n",
       "    </tr>\n",
       "    <tr>\n",
       "      <th>3</th>\n",
       "      <td>Q07</td>\n",
       "      <td>77</td>\n",
       "      <td>11</td>\n",
       "      <td>9</td>\n",
       "      <td>60</td>\n",
       "      <td>13</td>\n",
       "      <td>36</td>\n",
       "      <td>23</td>\n",
       "    </tr>\n",
       "    <tr>\n",
       "      <th>4</th>\n",
       "      <td>Q09</td>\n",
       "      <td>68</td>\n",
       "      <td>10</td>\n",
       "      <td>12</td>\n",
       "      <td>59</td>\n",
       "      <td>17</td>\n",
       "      <td>39</td>\n",
       "      <td>24</td>\n",
       "    </tr>\n",
       "    <tr>\n",
       "      <th>5</th>\n",
       "      <td>Q11</td>\n",
       "      <td>120</td>\n",
       "      <td>21</td>\n",
       "      <td>11</td>\n",
       "      <td>25</td>\n",
       "      <td>13</td>\n",
       "      <td>24</td>\n",
       "      <td>15</td>\n",
       "    </tr>\n",
       "    <tr>\n",
       "      <th>6</th>\n",
       "      <td>Q13</td>\n",
       "      <td>104</td>\n",
       "      <td>18</td>\n",
       "      <td>12</td>\n",
       "      <td>32</td>\n",
       "      <td>11</td>\n",
       "      <td>33</td>\n",
       "      <td>19</td>\n",
       "    </tr>\n",
       "    <tr>\n",
       "      <th>7</th>\n",
       "      <td>Q17</td>\n",
       "      <td>93</td>\n",
       "      <td>22</td>\n",
       "      <td>9</td>\n",
       "      <td>40</td>\n",
       "      <td>14</td>\n",
       "      <td>29</td>\n",
       "      <td>22</td>\n",
       "    </tr>\n",
       "  </tbody>\n",
       "</table>\n",
       "</div>"
      ],
      "text/plain": [
       "  Question Strongly Disagree Disagree Somewhat Disagree  \\\n",
       "0      Q01               103       23                12   \n",
       "1      Q03                97       21                15   \n",
       "2      Q05                91       17                13   \n",
       "3      Q07                77       11                 9   \n",
       "4      Q09                68       10                12   \n",
       "5      Q11               120       21                11   \n",
       "6      Q13               104       18                12   \n",
       "7      Q17                93       22                 9   \n",
       "\n",
       "  Neither Agree nor Disagree Somewhat Agree Agree Strongly Agree  \n",
       "0                         27             11    36             17  \n",
       "1                         36             10    33             17  \n",
       "2                         36             16    40             16  \n",
       "3                         60             13    36             23  \n",
       "4                         59             17    39             24  \n",
       "5                         25             13    24             15  \n",
       "6                         32             11    33             19  \n",
       "7                         40             14    29             22  "
      ]
     },
     "execution_count": 83,
     "metadata": {},
     "output_type": "execute_result"
    }
   ],
   "source": [
    "# do frequency distribution of each question\n",
    "response_df = pd.DataFrame(columns = ['Question','Strongly Disagree', 'Disagree','Somewhat Disagree','Neither Agree nor Disagree','Somewhat Agree','Agree','Strongly Agree'])\n",
    "for column in columns_with_closed_responses:\n",
    "    values = raw_data[column].value_counts()\n",
    "    response_df = response_df.append({'Question':column,\n",
    "                                      'Strongly Disagree': values['Strongly Disagree'],\n",
    "                                      'Disagree' : values['Disagree'],\n",
    "                                      'Somewhat Disagree' :values['Somewhat Disagree'],\n",
    "                                      'Neither Agree nor Disagree' : values['Neither Agree nor Disagree'],\n",
    "                                      'Somewhat Agree': values['Somewhat Agree'],\n",
    "                                      'Agree': values['Agree'],\n",
    "                                      'Strongly Agree': values['Strongly Agree']\n",
    "                                     },ignore_index=True)\n",
    "response_df"
   ]
  },
  {
   "cell_type": "code",
   "execution_count": 84,
   "id": "subjective-lotus",
   "metadata": {},
   "outputs": [],
   "source": [
    "response_df.to_csv('data/output/numeric_response_histogram.csv')"
   ]
  },
  {
   "cell_type": "code",
   "execution_count": null,
   "id": "arranged-bridge",
   "metadata": {},
   "outputs": [],
   "source": []
  }
 ],
 "metadata": {
  "kernelspec": {
   "display_name": "Python 3",
   "language": "python",
   "name": "python3"
  },
  "language_info": {
   "codemirror_mode": {
    "name": "ipython",
    "version": 3
   },
   "file_extension": ".py",
   "mimetype": "text/x-python",
   "name": "python",
   "nbconvert_exporter": "python",
   "pygments_lexer": "ipython3",
   "version": "3.8.5"
  }
 },
 "nbformat": 4,
 "nbformat_minor": 5
}
